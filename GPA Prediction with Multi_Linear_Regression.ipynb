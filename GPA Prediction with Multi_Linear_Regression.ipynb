{
 "cells": [
  {
   "cell_type": "code",
   "execution_count": 1,
   "id": "7ffcd7a4",
   "metadata": {},
   "outputs": [],
   "source": [
    "import numpy as np\n",
    "import pandas as pd"
   ]
  },
  {
   "cell_type": "code",
   "execution_count": 2,
   "id": "c71caf8c",
   "metadata": {},
   "outputs": [],
   "source": [
    "raw = pd.read_csv('1.02.+Multiple+linear+regression.csv')"
   ]
  },
  {
   "cell_type": "code",
   "execution_count": 3,
   "id": "7e2bce3e",
   "metadata": {},
   "outputs": [
    {
     "data": {
      "text/html": [
       "<div>\n",
       "<style scoped>\n",
       "    .dataframe tbody tr th:only-of-type {\n",
       "        vertical-align: middle;\n",
       "    }\n",
       "\n",
       "    .dataframe tbody tr th {\n",
       "        vertical-align: top;\n",
       "    }\n",
       "\n",
       "    .dataframe thead th {\n",
       "        text-align: right;\n",
       "    }\n",
       "</style>\n",
       "<table border=\"1\" class=\"dataframe\">\n",
       "  <thead>\n",
       "    <tr style=\"text-align: right;\">\n",
       "      <th></th>\n",
       "      <th>SAT</th>\n",
       "      <th>Rand 1,2,3</th>\n",
       "      <th>GPA</th>\n",
       "    </tr>\n",
       "  </thead>\n",
       "  <tbody>\n",
       "    <tr>\n",
       "      <th>0</th>\n",
       "      <td>1714</td>\n",
       "      <td>1</td>\n",
       "      <td>2.40</td>\n",
       "    </tr>\n",
       "    <tr>\n",
       "      <th>1</th>\n",
       "      <td>1664</td>\n",
       "      <td>3</td>\n",
       "      <td>2.52</td>\n",
       "    </tr>\n",
       "    <tr>\n",
       "      <th>2</th>\n",
       "      <td>1760</td>\n",
       "      <td>3</td>\n",
       "      <td>2.54</td>\n",
       "    </tr>\n",
       "    <tr>\n",
       "      <th>3</th>\n",
       "      <td>1685</td>\n",
       "      <td>3</td>\n",
       "      <td>2.74</td>\n",
       "    </tr>\n",
       "    <tr>\n",
       "      <th>4</th>\n",
       "      <td>1693</td>\n",
       "      <td>2</td>\n",
       "      <td>2.83</td>\n",
       "    </tr>\n",
       "  </tbody>\n",
       "</table>\n",
       "</div>"
      ],
      "text/plain": [
       "    SAT  Rand 1,2,3   GPA\n",
       "0  1714           1  2.40\n",
       "1  1664           3  2.52\n",
       "2  1760           3  2.54\n",
       "3  1685           3  2.74\n",
       "4  1693           2  2.83"
      ]
     },
     "execution_count": 3,
     "metadata": {},
     "output_type": "execute_result"
    }
   ],
   "source": [
    "raw.head(5)"
   ]
  },
  {
   "cell_type": "code",
   "execution_count": 35,
   "id": "5baaef07",
   "metadata": {},
   "outputs": [],
   "source": [
    "x = raw.iloc[:, :-1].values\n",
    "y = raw.iloc[:, -1].values"
   ]
  },
  {
   "cell_type": "code",
   "execution_count": 36,
   "id": "50e26abc",
   "metadata": {
    "collapsed": true
   },
   "outputs": [
    {
     "data": {
      "text/plain": [
       "array([[1714,    1],\n",
       "       [1664,    3],\n",
       "       [1760,    3],\n",
       "       [1685,    3],\n",
       "       [1693,    2],\n",
       "       [1670,    1],\n",
       "       [1764,    2],\n",
       "       [1764,    1],\n",
       "       [1792,    2],\n",
       "       [1850,    3],\n",
       "       [1735,    3],\n",
       "       [1775,    2],\n",
       "       [1735,    1],\n",
       "       [1712,    3],\n",
       "       [1773,    2],\n",
       "       [1872,    2],\n",
       "       [1755,    3],\n",
       "       [1674,    2],\n",
       "       [1842,    3],\n",
       "       [1786,    3],\n",
       "       [1761,    3],\n",
       "       [1722,    3],\n",
       "       [1663,    3],\n",
       "       [1687,    1],\n",
       "       [1974,    1],\n",
       "       [1826,    1],\n",
       "       [1787,    1],\n",
       "       [1821,    3],\n",
       "       [2020,    1],\n",
       "       [1794,    2],\n",
       "       [1769,    1],\n",
       "       [1934,    1],\n",
       "       [1775,    1],\n",
       "       [1855,    3],\n",
       "       [1880,    2],\n",
       "       [1849,    2],\n",
       "       [1808,    3],\n",
       "       [1954,    3],\n",
       "       [1777,    3],\n",
       "       [1831,    2],\n",
       "       [1865,    3],\n",
       "       [1850,    1],\n",
       "       [1966,    3],\n",
       "       [1702,    1],\n",
       "       [1990,    1],\n",
       "       [1925,    2],\n",
       "       [1824,    2],\n",
       "       [1956,    1],\n",
       "       [1857,    1],\n",
       "       [1979,    3],\n",
       "       [1802,    3],\n",
       "       [1855,    1],\n",
       "       [1907,    2],\n",
       "       [1634,    2],\n",
       "       [1879,    1],\n",
       "       [1887,    1],\n",
       "       [1730,    2],\n",
       "       [1953,    1],\n",
       "       [1781,    2],\n",
       "       [1891,    2],\n",
       "       [1964,    1],\n",
       "       [1808,    3],\n",
       "       [1893,    3],\n",
       "       [2041,    3],\n",
       "       [1893,    1],\n",
       "       [1832,    2],\n",
       "       [1850,    3],\n",
       "       [1934,    2],\n",
       "       [1861,    2],\n",
       "       [1931,    3],\n",
       "       [1933,    3],\n",
       "       [1778,    1],\n",
       "       [1975,    1],\n",
       "       [1934,    3],\n",
       "       [2021,    3],\n",
       "       [2015,    3],\n",
       "       [1997,    1],\n",
       "       [2020,    2],\n",
       "       [1843,    3],\n",
       "       [1936,    3],\n",
       "       [1810,    1],\n",
       "       [1987,    3],\n",
       "       [1962,    1],\n",
       "       [2050,    2]], dtype=int64)"
      ]
     },
     "execution_count": 36,
     "metadata": {},
     "output_type": "execute_result"
    }
   ],
   "source": [
    "x"
   ]
  },
  {
   "cell_type": "code",
   "execution_count": 44,
   "id": "c5b22af6",
   "metadata": {},
   "outputs": [],
   "source": [
    "from sklearn.compose import ColumnTransformer"
   ]
  },
  {
   "cell_type": "code",
   "execution_count": 45,
   "id": "75ae1509",
   "metadata": {},
   "outputs": [],
   "source": [
    "from sklearn.preprocessing import OneHotEncoder\n",
    "#from sklearn.preprocessing import OneHotEncoder"
   ]
  },
  {
   "cell_type": "code",
   "execution_count": 46,
   "id": "438fe98e",
   "metadata": {},
   "outputs": [],
   "source": [
    "ct = ColumnTransformer(transformers = [('encoder', OneHotEncoder(),[1])], remainder = 'passthrough')"
   ]
  },
  {
   "cell_type": "code",
   "execution_count": 47,
   "id": "8f767f6f",
   "metadata": {},
   "outputs": [
    {
     "data": {
      "text/html": [
       "<style>#sk-container-id-3 {color: black;background-color: white;}#sk-container-id-3 pre{padding: 0;}#sk-container-id-3 div.sk-toggleable {background-color: white;}#sk-container-id-3 label.sk-toggleable__label {cursor: pointer;display: block;width: 100%;margin-bottom: 0;padding: 0.3em;box-sizing: border-box;text-align: center;}#sk-container-id-3 label.sk-toggleable__label-arrow:before {content: \"▸\";float: left;margin-right: 0.25em;color: #696969;}#sk-container-id-3 label.sk-toggleable__label-arrow:hover:before {color: black;}#sk-container-id-3 div.sk-estimator:hover label.sk-toggleable__label-arrow:before {color: black;}#sk-container-id-3 div.sk-toggleable__content {max-height: 0;max-width: 0;overflow: hidden;text-align: left;background-color: #f0f8ff;}#sk-container-id-3 div.sk-toggleable__content pre {margin: 0.2em;color: black;border-radius: 0.25em;background-color: #f0f8ff;}#sk-container-id-3 input.sk-toggleable__control:checked~div.sk-toggleable__content {max-height: 200px;max-width: 100%;overflow: auto;}#sk-container-id-3 input.sk-toggleable__control:checked~label.sk-toggleable__label-arrow:before {content: \"▾\";}#sk-container-id-3 div.sk-estimator input.sk-toggleable__control:checked~label.sk-toggleable__label {background-color: #d4ebff;}#sk-container-id-3 div.sk-label input.sk-toggleable__control:checked~label.sk-toggleable__label {background-color: #d4ebff;}#sk-container-id-3 input.sk-hidden--visually {border: 0;clip: rect(1px 1px 1px 1px);clip: rect(1px, 1px, 1px, 1px);height: 1px;margin: -1px;overflow: hidden;padding: 0;position: absolute;width: 1px;}#sk-container-id-3 div.sk-estimator {font-family: monospace;background-color: #f0f8ff;border: 1px dotted black;border-radius: 0.25em;box-sizing: border-box;margin-bottom: 0.5em;}#sk-container-id-3 div.sk-estimator:hover {background-color: #d4ebff;}#sk-container-id-3 div.sk-parallel-item::after {content: \"\";width: 100%;border-bottom: 1px solid gray;flex-grow: 1;}#sk-container-id-3 div.sk-label:hover label.sk-toggleable__label {background-color: #d4ebff;}#sk-container-id-3 div.sk-serial::before {content: \"\";position: absolute;border-left: 1px solid gray;box-sizing: border-box;top: 0;bottom: 0;left: 50%;z-index: 0;}#sk-container-id-3 div.sk-serial {display: flex;flex-direction: column;align-items: center;background-color: white;padding-right: 0.2em;padding-left: 0.2em;position: relative;}#sk-container-id-3 div.sk-item {position: relative;z-index: 1;}#sk-container-id-3 div.sk-parallel {display: flex;align-items: stretch;justify-content: center;background-color: white;position: relative;}#sk-container-id-3 div.sk-item::before, #sk-container-id-3 div.sk-parallel-item::before {content: \"\";position: absolute;border-left: 1px solid gray;box-sizing: border-box;top: 0;bottom: 0;left: 50%;z-index: -1;}#sk-container-id-3 div.sk-parallel-item {display: flex;flex-direction: column;z-index: 1;position: relative;background-color: white;}#sk-container-id-3 div.sk-parallel-item:first-child::after {align-self: flex-end;width: 50%;}#sk-container-id-3 div.sk-parallel-item:last-child::after {align-self: flex-start;width: 50%;}#sk-container-id-3 div.sk-parallel-item:only-child::after {width: 0;}#sk-container-id-3 div.sk-dashed-wrapped {border: 1px dashed gray;margin: 0 0.4em 0.5em 0.4em;box-sizing: border-box;padding-bottom: 0.4em;background-color: white;}#sk-container-id-3 div.sk-label label {font-family: monospace;font-weight: bold;display: inline-block;line-height: 1.2em;}#sk-container-id-3 div.sk-label-container {text-align: center;}#sk-container-id-3 div.sk-container {/* jupyter's `normalize.less` sets `[hidden] { display: none; }` but bootstrap.min.css set `[hidden] { display: none !important; }` so we also need the `!important` here to be able to override the default hidden behavior on the sphinx rendered scikit-learn.org. See: https://github.com/scikit-learn/scikit-learn/issues/21755 */display: inline-block !important;position: relative;}#sk-container-id-3 div.sk-text-repr-fallback {display: none;}</style><div id=\"sk-container-id-3\" class=\"sk-top-container\"><div class=\"sk-text-repr-fallback\"><pre>ColumnTransformer(remainder=&#x27;passthrough&#x27;,\n",
       "                  transformers=[(&#x27;encoder&#x27;, OneHotEncoder(), [1])])</pre><b>In a Jupyter environment, please rerun this cell to show the HTML representation or trust the notebook. <br />On GitHub, the HTML representation is unable to render, please try loading this page with nbviewer.org.</b></div><div class=\"sk-container\" hidden><div class=\"sk-item sk-dashed-wrapped\"><div class=\"sk-label-container\"><div class=\"sk-label sk-toggleable\"><input class=\"sk-toggleable__control sk-hidden--visually\" id=\"sk-estimator-id-7\" type=\"checkbox\" ><label for=\"sk-estimator-id-7\" class=\"sk-toggleable__label sk-toggleable__label-arrow\">ColumnTransformer</label><div class=\"sk-toggleable__content\"><pre>ColumnTransformer(remainder=&#x27;passthrough&#x27;,\n",
       "                  transformers=[(&#x27;encoder&#x27;, OneHotEncoder(), [1])])</pre></div></div></div><div class=\"sk-parallel\"><div class=\"sk-parallel-item\"><div class=\"sk-item\"><div class=\"sk-label-container\"><div class=\"sk-label sk-toggleable\"><input class=\"sk-toggleable__control sk-hidden--visually\" id=\"sk-estimator-id-8\" type=\"checkbox\" ><label for=\"sk-estimator-id-8\" class=\"sk-toggleable__label sk-toggleable__label-arrow\">encoder</label><div class=\"sk-toggleable__content\"><pre>[1]</pre></div></div></div><div class=\"sk-serial\"><div class=\"sk-item\"><div class=\"sk-estimator sk-toggleable\"><input class=\"sk-toggleable__control sk-hidden--visually\" id=\"sk-estimator-id-9\" type=\"checkbox\" ><label for=\"sk-estimator-id-9\" class=\"sk-toggleable__label sk-toggleable__label-arrow\">OneHotEncoder</label><div class=\"sk-toggleable__content\"><pre>OneHotEncoder()</pre></div></div></div></div></div></div><div class=\"sk-parallel-item\"><div class=\"sk-item\"><div class=\"sk-label-container\"><div class=\"sk-label sk-toggleable\"><input class=\"sk-toggleable__control sk-hidden--visually\" id=\"sk-estimator-id-10\" type=\"checkbox\" ><label for=\"sk-estimator-id-10\" class=\"sk-toggleable__label sk-toggleable__label-arrow\">remainder</label><div class=\"sk-toggleable__content\"><pre></pre></div></div></div><div class=\"sk-serial\"><div class=\"sk-item\"><div class=\"sk-estimator sk-toggleable\"><input class=\"sk-toggleable__control sk-hidden--visually\" id=\"sk-estimator-id-11\" type=\"checkbox\" ><label for=\"sk-estimator-id-11\" class=\"sk-toggleable__label sk-toggleable__label-arrow\">passthrough</label><div class=\"sk-toggleable__content\"><pre>passthrough</pre></div></div></div></div></div></div></div></div></div></div>"
      ],
      "text/plain": [
       "ColumnTransformer(remainder='passthrough',\n",
       "                  transformers=[('encoder', OneHotEncoder(), [1])])"
      ]
     },
     "execution_count": 47,
     "metadata": {},
     "output_type": "execute_result"
    }
   ],
   "source": [
    "ct"
   ]
  },
  {
   "cell_type": "code",
   "execution_count": 48,
   "id": "b0ed647f",
   "metadata": {},
   "outputs": [],
   "source": [
    "import numpy as np"
   ]
  },
  {
   "cell_type": "code",
   "execution_count": 49,
   "id": "d7405f5a",
   "metadata": {},
   "outputs": [],
   "source": [
    "N = np.array(ct.fit_transform(raw))"
   ]
  },
  {
   "cell_type": "code",
   "execution_count": 63,
   "id": "c740ae97",
   "metadata": {},
   "outputs": [
    {
     "data": {
      "text/plain": [
       "array([[1.00e+00, 0.00e+00, 0.00e+00, 1.71e+03, 2.40e+00],\n",
       "       [0.00e+00, 0.00e+00, 1.00e+00, 1.66e+03, 2.52e+00],\n",
       "       [0.00e+00, 0.00e+00, 1.00e+00, 1.76e+03, 2.54e+00],\n",
       "       [0.00e+00, 0.00e+00, 1.00e+00, 1.68e+03, 2.74e+00],\n",
       "       [0.00e+00, 1.00e+00, 0.00e+00, 1.69e+03, 2.83e+00],\n",
       "       [1.00e+00, 0.00e+00, 0.00e+00, 1.67e+03, 2.91e+00],\n",
       "       [0.00e+00, 1.00e+00, 0.00e+00, 1.76e+03, 3.00e+00],\n",
       "       [1.00e+00, 0.00e+00, 0.00e+00, 1.76e+03, 3.00e+00],\n",
       "       [0.00e+00, 1.00e+00, 0.00e+00, 1.79e+03, 3.01e+00],\n",
       "       [0.00e+00, 0.00e+00, 1.00e+00, 1.85e+03, 3.01e+00],\n",
       "       [0.00e+00, 0.00e+00, 1.00e+00, 1.74e+03, 3.02e+00],\n",
       "       [0.00e+00, 1.00e+00, 0.00e+00, 1.78e+03, 3.07e+00],\n",
       "       [1.00e+00, 0.00e+00, 0.00e+00, 1.74e+03, 3.08e+00],\n",
       "       [0.00e+00, 0.00e+00, 1.00e+00, 1.71e+03, 3.08e+00],\n",
       "       [0.00e+00, 1.00e+00, 0.00e+00, 1.77e+03, 3.12e+00],\n",
       "       [0.00e+00, 1.00e+00, 0.00e+00, 1.87e+03, 3.17e+00],\n",
       "       [0.00e+00, 0.00e+00, 1.00e+00, 1.76e+03, 3.17e+00],\n",
       "       [0.00e+00, 1.00e+00, 0.00e+00, 1.67e+03, 3.17e+00],\n",
       "       [0.00e+00, 0.00e+00, 1.00e+00, 1.84e+03, 3.17e+00],\n",
       "       [0.00e+00, 0.00e+00, 1.00e+00, 1.79e+03, 3.19e+00],\n",
       "       [0.00e+00, 0.00e+00, 1.00e+00, 1.76e+03, 3.19e+00],\n",
       "       [0.00e+00, 0.00e+00, 1.00e+00, 1.72e+03, 3.19e+00],\n",
       "       [0.00e+00, 0.00e+00, 1.00e+00, 1.66e+03, 3.20e+00],\n",
       "       [1.00e+00, 0.00e+00, 0.00e+00, 1.69e+03, 3.21e+00],\n",
       "       [1.00e+00, 0.00e+00, 0.00e+00, 1.97e+03, 3.24e+00],\n",
       "       [1.00e+00, 0.00e+00, 0.00e+00, 1.83e+03, 3.28e+00],\n",
       "       [1.00e+00, 0.00e+00, 0.00e+00, 1.79e+03, 3.28e+00],\n",
       "       [0.00e+00, 0.00e+00, 1.00e+00, 1.82e+03, 3.28e+00],\n",
       "       [1.00e+00, 0.00e+00, 0.00e+00, 2.02e+03, 3.28e+00],\n",
       "       [0.00e+00, 1.00e+00, 0.00e+00, 1.79e+03, 3.28e+00],\n",
       "       [1.00e+00, 0.00e+00, 0.00e+00, 1.77e+03, 3.28e+00],\n",
       "       [1.00e+00, 0.00e+00, 0.00e+00, 1.93e+03, 3.28e+00],\n",
       "       [1.00e+00, 0.00e+00, 0.00e+00, 1.78e+03, 3.29e+00],\n",
       "       [0.00e+00, 0.00e+00, 1.00e+00, 1.86e+03, 3.29e+00],\n",
       "       [0.00e+00, 1.00e+00, 0.00e+00, 1.88e+03, 3.29e+00],\n",
       "       [0.00e+00, 1.00e+00, 0.00e+00, 1.85e+03, 3.31e+00],\n",
       "       [0.00e+00, 0.00e+00, 1.00e+00, 1.81e+03, 3.32e+00],\n",
       "       [0.00e+00, 0.00e+00, 1.00e+00, 1.95e+03, 3.34e+00],\n",
       "       [0.00e+00, 0.00e+00, 1.00e+00, 1.78e+03, 3.37e+00],\n",
       "       [0.00e+00, 1.00e+00, 0.00e+00, 1.83e+03, 3.37e+00],\n",
       "       [0.00e+00, 0.00e+00, 1.00e+00, 1.86e+03, 3.37e+00],\n",
       "       [1.00e+00, 0.00e+00, 0.00e+00, 1.85e+03, 3.38e+00],\n",
       "       [0.00e+00, 0.00e+00, 1.00e+00, 1.97e+03, 3.38e+00],\n",
       "       [1.00e+00, 0.00e+00, 0.00e+00, 1.70e+03, 3.39e+00],\n",
       "       [1.00e+00, 0.00e+00, 0.00e+00, 1.99e+03, 3.39e+00],\n",
       "       [0.00e+00, 1.00e+00, 0.00e+00, 1.92e+03, 3.40e+00],\n",
       "       [0.00e+00, 1.00e+00, 0.00e+00, 1.82e+03, 3.40e+00],\n",
       "       [1.00e+00, 0.00e+00, 0.00e+00, 1.96e+03, 3.40e+00],\n",
       "       [1.00e+00, 0.00e+00, 0.00e+00, 1.86e+03, 3.41e+00],\n",
       "       [0.00e+00, 0.00e+00, 1.00e+00, 1.98e+03, 3.41e+00],\n",
       "       [0.00e+00, 0.00e+00, 1.00e+00, 1.80e+03, 3.41e+00],\n",
       "       [1.00e+00, 0.00e+00, 0.00e+00, 1.86e+03, 3.42e+00],\n",
       "       [0.00e+00, 1.00e+00, 0.00e+00, 1.91e+03, 3.42e+00],\n",
       "       [0.00e+00, 1.00e+00, 0.00e+00, 1.63e+03, 3.42e+00],\n",
       "       [1.00e+00, 0.00e+00, 0.00e+00, 1.88e+03, 3.44e+00],\n",
       "       [1.00e+00, 0.00e+00, 0.00e+00, 1.89e+03, 3.47e+00],\n",
       "       [0.00e+00, 1.00e+00, 0.00e+00, 1.73e+03, 3.47e+00],\n",
       "       [1.00e+00, 0.00e+00, 0.00e+00, 1.95e+03, 3.47e+00],\n",
       "       [0.00e+00, 1.00e+00, 0.00e+00, 1.78e+03, 3.47e+00],\n",
       "       [0.00e+00, 1.00e+00, 0.00e+00, 1.89e+03, 3.48e+00],\n",
       "       [1.00e+00, 0.00e+00, 0.00e+00, 1.96e+03, 3.49e+00],\n",
       "       [0.00e+00, 0.00e+00, 1.00e+00, 1.81e+03, 3.49e+00],\n",
       "       [0.00e+00, 0.00e+00, 1.00e+00, 1.89e+03, 3.50e+00],\n",
       "       [0.00e+00, 0.00e+00, 1.00e+00, 2.04e+03, 3.51e+00],\n",
       "       [1.00e+00, 0.00e+00, 0.00e+00, 1.89e+03, 3.51e+00],\n",
       "       [0.00e+00, 1.00e+00, 0.00e+00, 1.83e+03, 3.52e+00],\n",
       "       [0.00e+00, 0.00e+00, 1.00e+00, 1.85e+03, 3.52e+00],\n",
       "       [0.00e+00, 1.00e+00, 0.00e+00, 1.93e+03, 3.54e+00],\n",
       "       [0.00e+00, 1.00e+00, 0.00e+00, 1.86e+03, 3.58e+00],\n",
       "       [0.00e+00, 0.00e+00, 1.00e+00, 1.93e+03, 3.58e+00],\n",
       "       [0.00e+00, 0.00e+00, 1.00e+00, 1.93e+03, 3.59e+00],\n",
       "       [1.00e+00, 0.00e+00, 0.00e+00, 1.78e+03, 3.59e+00],\n",
       "       [1.00e+00, 0.00e+00, 0.00e+00, 1.98e+03, 3.60e+00],\n",
       "       [0.00e+00, 0.00e+00, 1.00e+00, 1.93e+03, 3.60e+00],\n",
       "       [0.00e+00, 0.00e+00, 1.00e+00, 2.02e+03, 3.61e+00],\n",
       "       [0.00e+00, 0.00e+00, 1.00e+00, 2.02e+03, 3.62e+00],\n",
       "       [1.00e+00, 0.00e+00, 0.00e+00, 2.00e+03, 3.64e+00],\n",
       "       [0.00e+00, 1.00e+00, 0.00e+00, 2.02e+03, 3.65e+00],\n",
       "       [0.00e+00, 0.00e+00, 1.00e+00, 1.84e+03, 3.71e+00],\n",
       "       [0.00e+00, 0.00e+00, 1.00e+00, 1.94e+03, 3.71e+00],\n",
       "       [1.00e+00, 0.00e+00, 0.00e+00, 1.81e+03, 3.71e+00],\n",
       "       [0.00e+00, 0.00e+00, 1.00e+00, 1.99e+03, 3.73e+00],\n",
       "       [1.00e+00, 0.00e+00, 0.00e+00, 1.96e+03, 3.76e+00],\n",
       "       [0.00e+00, 1.00e+00, 0.00e+00, 2.05e+03, 3.81e+00]])"
      ]
     },
     "execution_count": 63,
     "metadata": {},
     "output_type": "execute_result"
    }
   ],
   "source": [
    "N"
   ]
  },
  {
   "cell_type": "code",
   "execution_count": 64,
   "id": "786e7c69",
   "metadata": {},
   "outputs": [],
   "source": [
    "from sklearn.model_selection import train_test_split"
   ]
  },
  {
   "cell_type": "code",
   "execution_count": 52,
   "id": "0d56f86b",
   "metadata": {},
   "outputs": [],
   "source": [
    "x_train, x_test, y_train, y_test = train_test_split(x,y,test_size = 0.2, random_state = 42)"
   ]
  },
  {
   "cell_type": "code",
   "execution_count": 53,
   "id": "c51a398c",
   "metadata": {},
   "outputs": [],
   "source": [
    "from sklearn.linear_model import LinearRegression"
   ]
  },
  {
   "cell_type": "code",
   "execution_count": 54,
   "id": "cfe026f6",
   "metadata": {},
   "outputs": [],
   "source": [
    "LR = LinearRegression()"
   ]
  },
  {
   "cell_type": "code",
   "execution_count": 55,
   "id": "1a909eb4",
   "metadata": {},
   "outputs": [],
   "source": [
    "MC = LR.fit(x_train,y_train)"
   ]
  },
  {
   "cell_type": "code",
   "execution_count": 56,
   "id": "89bb2aa1",
   "metadata": {},
   "outputs": [
    {
     "data": {
      "text/html": [
       "<style>#sk-container-id-4 {color: black;background-color: white;}#sk-container-id-4 pre{padding: 0;}#sk-container-id-4 div.sk-toggleable {background-color: white;}#sk-container-id-4 label.sk-toggleable__label {cursor: pointer;display: block;width: 100%;margin-bottom: 0;padding: 0.3em;box-sizing: border-box;text-align: center;}#sk-container-id-4 label.sk-toggleable__label-arrow:before {content: \"▸\";float: left;margin-right: 0.25em;color: #696969;}#sk-container-id-4 label.sk-toggleable__label-arrow:hover:before {color: black;}#sk-container-id-4 div.sk-estimator:hover label.sk-toggleable__label-arrow:before {color: black;}#sk-container-id-4 div.sk-toggleable__content {max-height: 0;max-width: 0;overflow: hidden;text-align: left;background-color: #f0f8ff;}#sk-container-id-4 div.sk-toggleable__content pre {margin: 0.2em;color: black;border-radius: 0.25em;background-color: #f0f8ff;}#sk-container-id-4 input.sk-toggleable__control:checked~div.sk-toggleable__content {max-height: 200px;max-width: 100%;overflow: auto;}#sk-container-id-4 input.sk-toggleable__control:checked~label.sk-toggleable__label-arrow:before {content: \"▾\";}#sk-container-id-4 div.sk-estimator input.sk-toggleable__control:checked~label.sk-toggleable__label {background-color: #d4ebff;}#sk-container-id-4 div.sk-label input.sk-toggleable__control:checked~label.sk-toggleable__label {background-color: #d4ebff;}#sk-container-id-4 input.sk-hidden--visually {border: 0;clip: rect(1px 1px 1px 1px);clip: rect(1px, 1px, 1px, 1px);height: 1px;margin: -1px;overflow: hidden;padding: 0;position: absolute;width: 1px;}#sk-container-id-4 div.sk-estimator {font-family: monospace;background-color: #f0f8ff;border: 1px dotted black;border-radius: 0.25em;box-sizing: border-box;margin-bottom: 0.5em;}#sk-container-id-4 div.sk-estimator:hover {background-color: #d4ebff;}#sk-container-id-4 div.sk-parallel-item::after {content: \"\";width: 100%;border-bottom: 1px solid gray;flex-grow: 1;}#sk-container-id-4 div.sk-label:hover label.sk-toggleable__label {background-color: #d4ebff;}#sk-container-id-4 div.sk-serial::before {content: \"\";position: absolute;border-left: 1px solid gray;box-sizing: border-box;top: 0;bottom: 0;left: 50%;z-index: 0;}#sk-container-id-4 div.sk-serial {display: flex;flex-direction: column;align-items: center;background-color: white;padding-right: 0.2em;padding-left: 0.2em;position: relative;}#sk-container-id-4 div.sk-item {position: relative;z-index: 1;}#sk-container-id-4 div.sk-parallel {display: flex;align-items: stretch;justify-content: center;background-color: white;position: relative;}#sk-container-id-4 div.sk-item::before, #sk-container-id-4 div.sk-parallel-item::before {content: \"\";position: absolute;border-left: 1px solid gray;box-sizing: border-box;top: 0;bottom: 0;left: 50%;z-index: -1;}#sk-container-id-4 div.sk-parallel-item {display: flex;flex-direction: column;z-index: 1;position: relative;background-color: white;}#sk-container-id-4 div.sk-parallel-item:first-child::after {align-self: flex-end;width: 50%;}#sk-container-id-4 div.sk-parallel-item:last-child::after {align-self: flex-start;width: 50%;}#sk-container-id-4 div.sk-parallel-item:only-child::after {width: 0;}#sk-container-id-4 div.sk-dashed-wrapped {border: 1px dashed gray;margin: 0 0.4em 0.5em 0.4em;box-sizing: border-box;padding-bottom: 0.4em;background-color: white;}#sk-container-id-4 div.sk-label label {font-family: monospace;font-weight: bold;display: inline-block;line-height: 1.2em;}#sk-container-id-4 div.sk-label-container {text-align: center;}#sk-container-id-4 div.sk-container {/* jupyter's `normalize.less` sets `[hidden] { display: none; }` but bootstrap.min.css set `[hidden] { display: none !important; }` so we also need the `!important` here to be able to override the default hidden behavior on the sphinx rendered scikit-learn.org. See: https://github.com/scikit-learn/scikit-learn/issues/21755 */display: inline-block !important;position: relative;}#sk-container-id-4 div.sk-text-repr-fallback {display: none;}</style><div id=\"sk-container-id-4\" class=\"sk-top-container\"><div class=\"sk-text-repr-fallback\"><pre>LinearRegression()</pre><b>In a Jupyter environment, please rerun this cell to show the HTML representation or trust the notebook. <br />On GitHub, the HTML representation is unable to render, please try loading this page with nbviewer.org.</b></div><div class=\"sk-container\" hidden><div class=\"sk-item\"><div class=\"sk-estimator sk-toggleable\"><input class=\"sk-toggleable__control sk-hidden--visually\" id=\"sk-estimator-id-12\" type=\"checkbox\" checked><label for=\"sk-estimator-id-12\" class=\"sk-toggleable__label sk-toggleable__label-arrow\">LinearRegression</label><div class=\"sk-toggleable__content\"><pre>LinearRegression()</pre></div></div></div></div></div>"
      ],
      "text/plain": [
       "LinearRegression()"
      ]
     },
     "execution_count": 56,
     "metadata": {},
     "output_type": "execute_result"
    }
   ],
   "source": [
    "MC"
   ]
  },
  {
   "cell_type": "code",
   "execution_count": 57,
   "id": "98673f06",
   "metadata": {},
   "outputs": [],
   "source": [
    "y_pred = LR.predict(x_test)"
   ]
  },
  {
   "cell_type": "code",
   "execution_count": 58,
   "id": "ceae5751",
   "metadata": {},
   "outputs": [
    {
     "data": {
      "text/plain": [
       "array([3.43, 3.18, 3.24, 3.04, 3.21, 3.43, 3.14, 3.3 , 3.12, 3.32, 3.33,\n",
       "       3.53, 3.34, 3.51, 3.43, 3.42, 3.32])"
      ]
     },
     "execution_count": 58,
     "metadata": {},
     "output_type": "execute_result"
    }
   ],
   "source": [
    "y_pred"
   ]
  },
  {
   "cell_type": "code",
   "execution_count": 59,
   "id": "cdf0f4a3",
   "metadata": {},
   "outputs": [],
   "source": [
    "np.set_printoptions(precision = 2)"
   ]
  },
  {
   "cell_type": "code",
   "execution_count": 62,
   "id": "f173b2fe",
   "metadata": {},
   "outputs": [
    {
     "name": "stdout",
     "output_type": "stream",
     "text": [
      "[[3.43 3.6 ]\n",
      " [3.18 2.4 ]\n",
      " [3.24 3.47]\n",
      " [3.04 3.2 ]\n",
      " [3.21 3.08]\n",
      " [3.43 3.59]\n",
      " [3.14 3.02]\n",
      " [3.3  3.17]\n",
      " [3.12 2.83]\n",
      " [3.32 3.52]\n",
      " [3.33 3.37]\n",
      " [3.53 3.4 ]\n",
      " [3.34 3.31]\n",
      " [3.51 3.73]\n",
      " [3.43 3.47]\n",
      " [3.42 3.44]\n",
      " [3.32 3.29]]\n"
     ]
    }
   ],
   "source": [
    "print(np.concatenate((y_pred.reshape(len(y_pred),1), y_test.reshape(len(y_test),1)),1))"
   ]
  },
  {
   "cell_type": "code",
   "execution_count": null,
   "id": "37069602",
   "metadata": {},
   "outputs": [],
   "source": []
  },
  {
   "cell_type": "code",
   "execution_count": null,
   "id": "e763c896",
   "metadata": {},
   "outputs": [],
   "source": []
  },
  {
   "cell_type": "code",
   "execution_count": 30,
   "id": "8d0a2c76",
   "metadata": {},
   "outputs": [
    {
     "data": {
      "text/plain": [
       "array([3.43, 3.18, 3.24, 3.04, 3.21, 3.43, 3.14, 3.3 , 3.12, 3.32, 3.33,\n",
       "       3.53, 3.34, 3.51, 3.43, 3.42, 3.32])"
      ]
     },
     "execution_count": 30,
     "metadata": {},
     "output_type": "execute_result"
    }
   ],
   "source": []
  },
  {
   "cell_type": "code",
   "execution_count": 31,
   "id": "db065241",
   "metadata": {},
   "outputs": [
    {
     "data": {
      "text/plain": [
       "73    3.60\n",
       "0     2.40\n",
       "58    3.47\n",
       "22    3.20\n",
       "12    3.08\n",
       "70    3.59\n",
       "10    3.02\n",
       "18    3.17\n",
       "4     2.83\n",
       "65    3.52\n",
       "40    3.37\n",
       "47    3.40\n",
       "35    3.31\n",
       "81    3.73\n",
       "55    3.47\n",
       "54    3.44\n",
       "33    3.29\n",
       "Name: GPA, dtype: float64"
      ]
     },
     "execution_count": 31,
     "metadata": {},
     "output_type": "execute_result"
    }
   ],
   "source": []
  },
  {
   "cell_type": "code",
   "execution_count": null,
   "id": "41c782c8",
   "metadata": {},
   "outputs": [],
   "source": [
    "\n"
   ]
  },
  {
   "cell_type": "code",
   "execution_count": null,
   "id": "1e2b2971",
   "metadata": {},
   "outputs": [],
   "source": []
  }
 ],
 "metadata": {
  "kernelspec": {
   "display_name": "Python 3 (ipykernel)",
   "language": "python",
   "name": "python3"
  },
  "language_info": {
   "codemirror_mode": {
    "name": "ipython",
    "version": 3
   },
   "file_extension": ".py",
   "mimetype": "text/x-python",
   "name": "python",
   "nbconvert_exporter": "python",
   "pygments_lexer": "ipython3",
   "version": "3.10.9"
  }
 },
 "nbformat": 4,
 "nbformat_minor": 5
}
